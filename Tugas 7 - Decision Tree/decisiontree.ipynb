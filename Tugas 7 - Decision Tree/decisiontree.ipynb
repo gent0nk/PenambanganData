{
 "cells": [
  {
   "cell_type": "markdown",
   "id": "4f6bbaf6-e683-4d84-b7de-f499e4e25f99",
   "metadata": {},
   "source": [
    "### Tugas 7 Data Mining\n",
    "### BAGAS SATRIA\n",
    "### A11.2022.14565"
   ]
  },
  {
   "cell_type": "markdown",
   "id": "d14f2e58-14e9-46e5-a770-479a03bb62ee",
   "metadata": {},
   "source": [
    "### Import Library"
   ]
  },
  {
   "cell_type": "code",
   "execution_count": 1,
   "id": "fd8d7426-300a-475c-9fb9-32768e8ec272",
   "metadata": {},
   "outputs": [],
   "source": [
    "import numpy as np\n",
    "import pandas as pd\n",
    "from sklearn import tree"
   ]
  },
  {
   "cell_type": "markdown",
   "id": "14088cc2-0394-43f9-9b1e-a4ba66eb9fd8",
   "metadata": {},
   "source": [
    "### Import Dataset"
   ]
  },
  {
   "cell_type": "code",
   "execution_count": 2,
   "id": "6619fc97-8b75-4a0f-8757-2911f9cf4283",
   "metadata": {},
   "outputs": [],
   "source": [
    "irisDataset = pd.read_csv('Dataset Iris.csv', delimiter=';', header=0)"
   ]
  },
  {
   "cell_type": "code",
   "execution_count": 3,
   "id": "850e0731-235f-4616-93d5-f16dbd84aa91",
   "metadata": {},
   "outputs": [],
   "source": [
    "irisDataset[\"Species\"] = pd.factorize(irisDataset.Species)[0]"
   ]
  },
  {
   "cell_type": "code",
   "execution_count": 4,
   "id": "1d6a6c8f-350c-4b5a-b365-1c7d86d4a081",
   "metadata": {},
   "outputs": [],
   "source": [
    "irisDataset = irisDataset.drop(labels=\"Id\", axis=1)"
   ]
  },
  {
   "cell_type": "markdown",
   "id": "304e2739-50a8-4f6a-bfc0-ab36cd24ae52",
   "metadata": {},
   "source": [
    "## Mengubah Dataframe ke array numpy"
   ]
  },
  {
   "cell_type": "code",
   "execution_count": 5,
   "id": "3e431ca9-a2ab-4de0-a861-d32074a77722",
   "metadata": {},
   "outputs": [],
   "source": [
    "irisDataset = irisDataset.to_numpy()"
   ]
  },
  {
   "cell_type": "markdown",
   "id": "2a4f07e6-f0bc-4fdb-bdcd-25b88b778006",
   "metadata": {},
   "source": [
    "## Split dataset 40 Training dan 40 Testing"
   ]
  },
  {
   "cell_type": "code",
   "execution_count": 6,
   "id": "87333974-b408-4565-8647-8dbcc9cb13a9",
   "metadata": {},
   "outputs": [],
   "source": [
    "dataTraining = np.concatenate((irisDataset[0:40,:], irisDataset[50:90,:]), axis=0)\n",
    "dataTesting = np.concatenate((irisDataset[40:50,:], irisDataset[90:100,:]), axis=0)"
   ]
  },
  {
   "cell_type": "markdown",
   "id": "3675e606-2eef-4a99-aaf6-fb7aa1698a7b",
   "metadata": {},
   "source": [
    "## Split dataset Input dan Label"
   ]
  },
  {
   "cell_type": "code",
   "execution_count": 7,
   "id": "7f876c88-90d5-4756-8c08-3b113415b4c5",
   "metadata": {},
   "outputs": [],
   "source": [
    "inputTraining = dataTraining[:,0:4]\n",
    "inputTesting = dataTesting[:,0:4]\n",
    "labelTraining = dataTraining[:, 4]\n",
    "labelTesting = dataTesting[:, 4]"
   ]
  },
  {
   "cell_type": "markdown",
   "id": "085ffce8-7af4-49b0-b921-46d80f0e35e1",
   "metadata": {},
   "source": [
    "## Mendefinisikan Decision Tree Clasifier"
   ]
  },
  {
   "cell_type": "code",
   "execution_count": 8,
   "id": "31cb584a-5398-457a-9c21-e811ee7165e3",
   "metadata": {},
   "outputs": [],
   "source": [
    "model = tree.DecisionTreeClassifier()"
   ]
  },
  {
   "cell_type": "markdown",
   "id": "c0b5c25d-bd45-4e2f-a229-da0346735154",
   "metadata": {},
   "source": [
    "## Training Model"
   ]
  },
  {
   "cell_type": "code",
   "execution_count": 9,
   "id": "7f24526e-8ce1-4145-8e67-ec42ab79fcdd",
   "metadata": {},
   "outputs": [],
   "source": [
    "model = model.fit(inputTraining, labelTraining)"
   ]
  },
  {
   "cell_type": "markdown",
   "id": "a8193ccd-15e9-415f-9ed8-7abbc3b19688",
   "metadata": {},
   "source": [
    "## Memprediksi Input Training"
   ]
  },
  {
   "cell_type": "code",
   "execution_count": 10,
   "id": "fbc8bd23-bfff-41bf-b364-0eee25d78496",
   "metadata": {},
   "outputs": [
    {
     "name": "stdout",
     "output_type": "stream",
     "text": [
      "label sebenarnya:  [0. 0. 0. 0. 0. 0. 0. 0. 0. 0. 1. 1. 1. 1. 1. 1. 1. 1. 1. 1.]\n",
      "hasil prediksi:  [0. 0. 0. 0. 0. 0. 0. 0. 0. 0. 1. 1. 1. 1. 1. 1. 1. 1. 1. 1.]\n"
     ]
    }
   ],
   "source": [
    "hasilPrediksi = model.predict(inputTesting)\n",
    "print(\"label sebenarnya: \", labelTesting)\n",
    "print(\"hasil prediksi: \", hasilPrediksi)"
   ]
  },
  {
   "cell_type": "markdown",
   "id": "479e95cd-5044-495c-a399-75ef5f2c60ca",
   "metadata": {},
   "source": [
    "## Menghitung Akurasi"
   ]
  },
  {
   "cell_type": "code",
   "execution_count": 18,
   "id": "8450dca5-d48d-4914-8217-416b9f6d01e2",
   "metadata": {},
   "outputs": [
    {
     "name": "stdout",
     "output_type": "stream",
     "text": [
      "prediksi benar:  20  data\n",
      "prediksi salah:  0  data\n",
      "akurasi:  100.0 %\n"
     ]
    }
   ],
   "source": [
    "prediksiBenar = (hasilPrediksi == labelTesting).sum()\n",
    "prediksiSalah = (hasilPrediksi != labelTesting).sum()\n",
    "print(\"prediksi benar: \", prediksiBenar, \" data\")\n",
    "print(\"prediksi salah: \", prediksiSalah, \" data\")\n",
    "print(\"akurasi: \", prediksiBenar/(prediksiBenar+prediksiSalah) * 100, \"%\")"
   ]
  }
 ],
 "metadata": {
  "kernelspec": {
   "display_name": "Python 3",
   "language": "python",
   "name": "python3"
  },
  "language_info": {
   "codemirror_mode": {
    "name": "ipython",
    "version": 3
   },
   "file_extension": ".py",
   "mimetype": "text/x-python",
   "name": "python",
   "nbconvert_exporter": "python",
   "pygments_lexer": "ipython3",
   "version": "3.12.4"
  }
 },
 "nbformat": 4,
 "nbformat_minor": 5
}
